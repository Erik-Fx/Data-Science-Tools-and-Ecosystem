{
 "cells": [
  {
   "cell_type": "markdown",
   "id": "9de6fab0-4a74-45ae-84b7-48e7a18c104a",
   "metadata": {},
   "source": [
    "# Data Science Tools and Ecosystem"
   ]
  },
  {
   "cell_type": "markdown",
   "id": "23641448-0e1b-4ea7-a02e-58cb0bbbcf91",
   "metadata": {},
   "source": [
    "In this notebook, Data Science Tools and Ecosystem are summarized."
   ]
  },
  {
   "cell_type": "markdown",
   "id": "095384dd-711a-4d2c-9644-1fdbe7137ee0",
   "metadata": {},
   "source": [
    "**Objectives:**\n",
    "- Popular languages for Data science \n",
    "- Commonly used libraries in Data science\n",
    "- Arithmetic expressions in Python"
   ]
  },
  {
   "cell_type": "markdown",
   "id": "30edf54d-de6a-4f80-ac6b-8f00fbcf73cf",
   "metadata": {},
   "source": [
    "Some of the popular languages that Data Scientists use are:\n",
    "1. Python\n",
    "1. R\n",
    "1. SQL"
   ]
  },
  {
   "cell_type": "markdown",
   "id": "b2afc6bd-7d0f-4f0a-892f-549638c09ea3",
   "metadata": {},
   "source": [
    "Some of the commonly used libraries used by Data Scientists include:"
   ]
  },
  {
   "cell_type": "markdown",
   "id": "489e7242-6bf8-47c7-9283-282823d0f26a",
   "metadata": {},
   "source": [
    "1. NumPy\n",
    "1. Pandas\n",
    "1. Matplotlib"
   ]
  },
  {
   "cell_type": "markdown",
   "id": "b842094d-7c2b-428d-9cef-4cee7a0cbcc3",
   "metadata": {},
   "source": [
    "| Data Science Tools |\n",
    "| ------------------- |\n",
    "| Jupyter Notebook |\n",
    "| Spyder |\n",
    "| RStudio |\n"
   ]
  },
  {
   "cell_type": "markdown",
   "id": "dbbecddc-2381-47bb-9017-787294ba8312",
   "metadata": {},
   "source": [
    "### Below are a few examples of evaluating arithmetic expressions in Python"
   ]
  },
  {
   "cell_type": "code",
   "execution_count": 1,
   "id": "17ddff40-d2e8-431a-8c21-5dab3b768ec8",
   "metadata": {
    "tags": []
   },
   "outputs": [
    {
     "data": {
      "text/plain": [
       "17"
      ]
     },
     "execution_count": 1,
     "metadata": {},
     "output_type": "execute_result"
    }
   ],
   "source": [
    "# This is a simple arithmetic expression to multiply then add integers.\n",
    "3 * 4 + 5\n"
   ]
  },
  {
   "cell_type": "code",
   "execution_count": 3,
   "id": "ccf73b48-7732-4a98-9839-299897d18226",
   "metadata": {
    "tags": []
   },
   "outputs": [
    {
     "data": {
      "text/plain": [
       "3.3333333333333335"
      ]
     },
     "execution_count": 3,
     "metadata": {},
     "output_type": "execute_result"
    }
   ],
   "source": [
    "# This will convert 200 minutes to hours by dividing by 60.\n",
    "200 / 60\n"
   ]
  },
  {
   "cell_type": "markdown",
   "id": "bd9ead4f-7b81-4d44-a5f1-cde44790485a",
   "metadata": {},
   "source": [
    "## Author\n",
    "Erik F"
   ]
  },
  {
   "cell_type": "code",
   "execution_count": null,
   "id": "91a96bcd-83f2-406f-ae4c-d6f5f159db71",
   "metadata": {},
   "outputs": [],
   "source": []
  }
 ],
 "metadata": {
  "kernelspec": {
   "display_name": "Python",
   "language": "python",
   "name": "conda-env-python-py"
  },
  "language_info": {
   "codemirror_mode": {
    "name": "ipython",
    "version": 3
   },
   "file_extension": ".py",
   "mimetype": "text/x-python",
   "name": "python",
   "nbconvert_exporter": "python",
   "pygments_lexer": "ipython3",
   "version": "3.7.12"
  }
 },
 "nbformat": 4,
 "nbformat_minor": 5
}
